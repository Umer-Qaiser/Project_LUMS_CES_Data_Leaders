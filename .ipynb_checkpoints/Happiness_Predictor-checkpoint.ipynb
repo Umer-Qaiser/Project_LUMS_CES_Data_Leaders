{
 "cells": [
  {
   "cell_type": "markdown",
   "metadata": {},
   "source": [
    "### LUMS CES - DATA LEADERS PROJECT - COUNTRY-WISE LADDER SCORE PREDICTION\n",
    "\n",
    "AUTHORED & SUBMITTED BY:\n",
    "1. UMER QAISER\n",
    "2. TALHA TARIQ"
   ]
  },
  {
   "cell_type": "code",
   "execution_count": 115,
   "metadata": {},
   "outputs": [],
   "source": [
    "import pandas as pd\n",
    "import numpy as np\n",
    "import matplotlib.pyplot as plt\n",
    "from sklearn.model_selection import train_test_split\n",
    "from sklearn.linear_model import LinearRegression\n",
    "\n",
    "model = LinearRegression()\n",
    "\n",
    "df = pd.read_csv('DS\\DataSet for 2021.csv')"
   ]
  },
  {
   "cell_type": "markdown",
   "metadata": {},
   "source": [
    "##### INPUT DATA OBTAINED FROM KAGGLE"
   ]
  },
  {
   "cell_type": "code",
   "execution_count": 97,
   "metadata": {},
   "outputs": [
    {
     "data": {
      "text/html": [
       "<div>\n",
       "<style scoped>\n",
       "    .dataframe tbody tr th:only-of-type {\n",
       "        vertical-align: middle;\n",
       "    }\n",
       "\n",
       "    .dataframe tbody tr th {\n",
       "        vertical-align: top;\n",
       "    }\n",
       "\n",
       "    .dataframe thead th {\n",
       "        text-align: right;\n",
       "    }\n",
       "</style>\n",
       "<table border=\"1\" class=\"dataframe\">\n",
       "  <thead>\n",
       "    <tr style=\"text-align: right;\">\n",
       "      <th></th>\n",
       "      <th>Country name</th>\n",
       "      <th>Regional indicator</th>\n",
       "      <th>Ladder score</th>\n",
       "      <th>Logged GDP per capita</th>\n",
       "      <th>Social support</th>\n",
       "      <th>Healthy life expectancy</th>\n",
       "      <th>Freedom to make life choices</th>\n",
       "      <th>Generosity</th>\n",
       "      <th>Perceptions of corruption</th>\n",
       "      <th>Ladder score in Dystopia</th>\n",
       "      <th>Happiness Indicator</th>\n",
       "    </tr>\n",
       "  </thead>\n",
       "  <tbody>\n",
       "    <tr>\n",
       "      <th>0</th>\n",
       "      <td>Finland</td>\n",
       "      <td>Western Europe</td>\n",
       "      <td>7.842</td>\n",
       "      <td>10.775</td>\n",
       "      <td>0.954</td>\n",
       "      <td>72.000</td>\n",
       "      <td>0.949</td>\n",
       "      <td>-0.098</td>\n",
       "      <td>0.186</td>\n",
       "      <td>2.43</td>\n",
       "      <td>1.0</td>\n",
       "    </tr>\n",
       "    <tr>\n",
       "      <th>1</th>\n",
       "      <td>Denmark</td>\n",
       "      <td>Western Europe</td>\n",
       "      <td>7.620</td>\n",
       "      <td>10.933</td>\n",
       "      <td>0.954</td>\n",
       "      <td>72.700</td>\n",
       "      <td>0.946</td>\n",
       "      <td>0.030</td>\n",
       "      <td>0.179</td>\n",
       "      <td>2.43</td>\n",
       "      <td>1.0</td>\n",
       "    </tr>\n",
       "    <tr>\n",
       "      <th>2</th>\n",
       "      <td>Switzerland</td>\n",
       "      <td>Western Europe</td>\n",
       "      <td>7.571</td>\n",
       "      <td>11.117</td>\n",
       "      <td>0.942</td>\n",
       "      <td>74.400</td>\n",
       "      <td>0.919</td>\n",
       "      <td>0.025</td>\n",
       "      <td>0.292</td>\n",
       "      <td>2.43</td>\n",
       "      <td>1.0</td>\n",
       "    </tr>\n",
       "    <tr>\n",
       "      <th>3</th>\n",
       "      <td>Iceland</td>\n",
       "      <td>Western Europe</td>\n",
       "      <td>7.554</td>\n",
       "      <td>10.878</td>\n",
       "      <td>0.983</td>\n",
       "      <td>73.000</td>\n",
       "      <td>0.955</td>\n",
       "      <td>0.160</td>\n",
       "      <td>0.673</td>\n",
       "      <td>2.43</td>\n",
       "      <td>1.0</td>\n",
       "    </tr>\n",
       "    <tr>\n",
       "      <th>4</th>\n",
       "      <td>Netherlands</td>\n",
       "      <td>Western Europe</td>\n",
       "      <td>7.464</td>\n",
       "      <td>10.932</td>\n",
       "      <td>0.942</td>\n",
       "      <td>72.400</td>\n",
       "      <td>0.913</td>\n",
       "      <td>0.175</td>\n",
       "      <td>0.338</td>\n",
       "      <td>2.43</td>\n",
       "      <td>0.0</td>\n",
       "    </tr>\n",
       "    <tr>\n",
       "      <th>...</th>\n",
       "      <td>...</td>\n",
       "      <td>...</td>\n",
       "      <td>...</td>\n",
       "      <td>...</td>\n",
       "      <td>...</td>\n",
       "      <td>...</td>\n",
       "      <td>...</td>\n",
       "      <td>...</td>\n",
       "      <td>...</td>\n",
       "      <td>...</td>\n",
       "      <td>...</td>\n",
       "    </tr>\n",
       "    <tr>\n",
       "      <th>144</th>\n",
       "      <td>Lesotho</td>\n",
       "      <td>Sub-Saharan Africa</td>\n",
       "      <td>3.512</td>\n",
       "      <td>7.926</td>\n",
       "      <td>0.787</td>\n",
       "      <td>48.700</td>\n",
       "      <td>0.715</td>\n",
       "      <td>-0.131</td>\n",
       "      <td>0.915</td>\n",
       "      <td>2.43</td>\n",
       "      <td>0.5</td>\n",
       "    </tr>\n",
       "    <tr>\n",
       "      <th>145</th>\n",
       "      <td>Botswana</td>\n",
       "      <td>Sub-Saharan Africa</td>\n",
       "      <td>3.467</td>\n",
       "      <td>9.782</td>\n",
       "      <td>0.784</td>\n",
       "      <td>59.269</td>\n",
       "      <td>0.824</td>\n",
       "      <td>-0.246</td>\n",
       "      <td>0.801</td>\n",
       "      <td>2.43</td>\n",
       "      <td>0.5</td>\n",
       "    </tr>\n",
       "    <tr>\n",
       "      <th>146</th>\n",
       "      <td>Rwanda</td>\n",
       "      <td>Sub-Saharan Africa</td>\n",
       "      <td>3.415</td>\n",
       "      <td>7.676</td>\n",
       "      <td>0.552</td>\n",
       "      <td>61.400</td>\n",
       "      <td>0.897</td>\n",
       "      <td>0.061</td>\n",
       "      <td>0.167</td>\n",
       "      <td>2.43</td>\n",
       "      <td>0.5</td>\n",
       "    </tr>\n",
       "    <tr>\n",
       "      <th>147</th>\n",
       "      <td>Zimbabwe</td>\n",
       "      <td>Sub-Saharan Africa</td>\n",
       "      <td>3.145</td>\n",
       "      <td>7.943</td>\n",
       "      <td>0.750</td>\n",
       "      <td>56.201</td>\n",
       "      <td>0.677</td>\n",
       "      <td>-0.047</td>\n",
       "      <td>0.821</td>\n",
       "      <td>2.43</td>\n",
       "      <td>0.5</td>\n",
       "    </tr>\n",
       "    <tr>\n",
       "      <th>148</th>\n",
       "      <td>Afghanistan</td>\n",
       "      <td>South Asia</td>\n",
       "      <td>2.523</td>\n",
       "      <td>7.695</td>\n",
       "      <td>0.463</td>\n",
       "      <td>52.493</td>\n",
       "      <td>0.382</td>\n",
       "      <td>-0.102</td>\n",
       "      <td>0.924</td>\n",
       "      <td>2.43</td>\n",
       "      <td>0.5</td>\n",
       "    </tr>\n",
       "  </tbody>\n",
       "</table>\n",
       "<p>149 rows × 11 columns</p>\n",
       "</div>"
      ],
      "text/plain": [
       "    Country name  Regional indicator  Ladder score  Logged GDP per capita  \\\n",
       "0        Finland      Western Europe         7.842                 10.775   \n",
       "1        Denmark      Western Europe         7.620                 10.933   \n",
       "2    Switzerland      Western Europe         7.571                 11.117   \n",
       "3        Iceland      Western Europe         7.554                 10.878   \n",
       "4    Netherlands      Western Europe         7.464                 10.932   \n",
       "..           ...                 ...           ...                    ...   \n",
       "144      Lesotho  Sub-Saharan Africa         3.512                  7.926   \n",
       "145     Botswana  Sub-Saharan Africa         3.467                  9.782   \n",
       "146       Rwanda  Sub-Saharan Africa         3.415                  7.676   \n",
       "147     Zimbabwe  Sub-Saharan Africa         3.145                  7.943   \n",
       "148  Afghanistan          South Asia         2.523                  7.695   \n",
       "\n",
       "     Social support  Healthy life expectancy  Freedom to make life choices  \\\n",
       "0             0.954                   72.000                         0.949   \n",
       "1             0.954                   72.700                         0.946   \n",
       "2             0.942                   74.400                         0.919   \n",
       "3             0.983                   73.000                         0.955   \n",
       "4             0.942                   72.400                         0.913   \n",
       "..              ...                      ...                           ...   \n",
       "144           0.787                   48.700                         0.715   \n",
       "145           0.784                   59.269                         0.824   \n",
       "146           0.552                   61.400                         0.897   \n",
       "147           0.750                   56.201                         0.677   \n",
       "148           0.463                   52.493                         0.382   \n",
       "\n",
       "     Generosity  Perceptions of corruption  Ladder score in Dystopia  \\\n",
       "0        -0.098                      0.186                      2.43   \n",
       "1         0.030                      0.179                      2.43   \n",
       "2         0.025                      0.292                      2.43   \n",
       "3         0.160                      0.673                      2.43   \n",
       "4         0.175                      0.338                      2.43   \n",
       "..          ...                        ...                       ...   \n",
       "144      -0.131                      0.915                      2.43   \n",
       "145      -0.246                      0.801                      2.43   \n",
       "146       0.061                      0.167                      2.43   \n",
       "147      -0.047                      0.821                      2.43   \n",
       "148      -0.102                      0.924                      2.43   \n",
       "\n",
       "     Happiness Indicator  \n",
       "0                    1.0  \n",
       "1                    1.0  \n",
       "2                    1.0  \n",
       "3                    1.0  \n",
       "4                    0.0  \n",
       "..                   ...  \n",
       "144                  0.5  \n",
       "145                  0.5  \n",
       "146                  0.5  \n",
       "147                  0.5  \n",
       "148                  0.5  \n",
       "\n",
       "[149 rows x 11 columns]"
      ]
     },
     "execution_count": 97,
     "metadata": {},
     "output_type": "execute_result"
    }
   ],
   "source": [
    "df_cleansed = df.drop(['Standard error of ladder score','lowerwhisker', 'upperwhisker'], axis=1)\n",
    "\n",
    "df_cleansed = df_cleansed.drop(df_cleansed.columns[10:17], axis=1)\n",
    "df_cleansed.dropna()\n",
    "\n",
    "df_cleansed"
   ]
  },
  {
   "cell_type": "markdown",
   "metadata": {},
   "source": [
    "##### STATISTICAL EVALUATIONS"
   ]
  },
  {
   "cell_type": "code",
   "execution_count": 98,
   "metadata": {},
   "outputs": [
    {
     "data": {
      "text/html": [
       "<div>\n",
       "<style scoped>\n",
       "    .dataframe tbody tr th:only-of-type {\n",
       "        vertical-align: middle;\n",
       "    }\n",
       "\n",
       "    .dataframe tbody tr th {\n",
       "        vertical-align: top;\n",
       "    }\n",
       "\n",
       "    .dataframe thead th {\n",
       "        text-align: right;\n",
       "    }\n",
       "</style>\n",
       "<table border=\"1\" class=\"dataframe\">\n",
       "  <thead>\n",
       "    <tr style=\"text-align: right;\">\n",
       "      <th></th>\n",
       "      <th>Ladder score</th>\n",
       "      <th>Logged GDP per capita</th>\n",
       "      <th>Social support</th>\n",
       "      <th>Healthy life expectancy</th>\n",
       "      <th>Freedom to make life choices</th>\n",
       "      <th>Generosity</th>\n",
       "      <th>Perceptions of corruption</th>\n",
       "      <th>Ladder score in Dystopia</th>\n",
       "      <th>Happiness Indicator</th>\n",
       "    </tr>\n",
       "  </thead>\n",
       "  <tbody>\n",
       "    <tr>\n",
       "      <th>count</th>\n",
       "      <td>149.000000</td>\n",
       "      <td>149.000000</td>\n",
       "      <td>149.000000</td>\n",
       "      <td>149.000000</td>\n",
       "      <td>149.000000</td>\n",
       "      <td>149.000000</td>\n",
       "      <td>149.000000</td>\n",
       "      <td>149.00</td>\n",
       "      <td>149.000000</td>\n",
       "    </tr>\n",
       "    <tr>\n",
       "      <th>mean</th>\n",
       "      <td>5.532839</td>\n",
       "      <td>9.432208</td>\n",
       "      <td>0.814745</td>\n",
       "      <td>64.992799</td>\n",
       "      <td>0.791597</td>\n",
       "      <td>-0.015134</td>\n",
       "      <td>0.727450</td>\n",
       "      <td>2.43</td>\n",
       "      <td>0.187919</td>\n",
       "    </tr>\n",
       "    <tr>\n",
       "      <th>std</th>\n",
       "      <td>1.073924</td>\n",
       "      <td>1.158601</td>\n",
       "      <td>0.114889</td>\n",
       "      <td>6.762043</td>\n",
       "      <td>0.113332</td>\n",
       "      <td>0.150657</td>\n",
       "      <td>0.179226</td>\n",
       "      <td>0.00</td>\n",
       "      <td>0.269362</td>\n",
       "    </tr>\n",
       "    <tr>\n",
       "      <th>min</th>\n",
       "      <td>2.523000</td>\n",
       "      <td>6.635000</td>\n",
       "      <td>0.463000</td>\n",
       "      <td>48.478000</td>\n",
       "      <td>0.382000</td>\n",
       "      <td>-0.288000</td>\n",
       "      <td>0.082000</td>\n",
       "      <td>2.43</td>\n",
       "      <td>0.000000</td>\n",
       "    </tr>\n",
       "    <tr>\n",
       "      <th>25%</th>\n",
       "      <td>4.852000</td>\n",
       "      <td>8.541000</td>\n",
       "      <td>0.750000</td>\n",
       "      <td>59.802000</td>\n",
       "      <td>0.718000</td>\n",
       "      <td>-0.126000</td>\n",
       "      <td>0.667000</td>\n",
       "      <td>2.43</td>\n",
       "      <td>0.000000</td>\n",
       "    </tr>\n",
       "    <tr>\n",
       "      <th>50%</th>\n",
       "      <td>5.534000</td>\n",
       "      <td>9.569000</td>\n",
       "      <td>0.832000</td>\n",
       "      <td>66.603000</td>\n",
       "      <td>0.804000</td>\n",
       "      <td>-0.036000</td>\n",
       "      <td>0.781000</td>\n",
       "      <td>2.43</td>\n",
       "      <td>0.000000</td>\n",
       "    </tr>\n",
       "    <tr>\n",
       "      <th>75%</th>\n",
       "      <td>6.255000</td>\n",
       "      <td>10.421000</td>\n",
       "      <td>0.905000</td>\n",
       "      <td>69.600000</td>\n",
       "      <td>0.877000</td>\n",
       "      <td>0.079000</td>\n",
       "      <td>0.845000</td>\n",
       "      <td>2.43</td>\n",
       "      <td>0.500000</td>\n",
       "    </tr>\n",
       "    <tr>\n",
       "      <th>max</th>\n",
       "      <td>7.842000</td>\n",
       "      <td>11.647000</td>\n",
       "      <td>0.983000</td>\n",
       "      <td>76.953000</td>\n",
       "      <td>0.970000</td>\n",
       "      <td>0.542000</td>\n",
       "      <td>0.939000</td>\n",
       "      <td>2.43</td>\n",
       "      <td>1.000000</td>\n",
       "    </tr>\n",
       "  </tbody>\n",
       "</table>\n",
       "</div>"
      ],
      "text/plain": [
       "       Ladder score  Logged GDP per capita  Social support  \\\n",
       "count    149.000000             149.000000      149.000000   \n",
       "mean       5.532839               9.432208        0.814745   \n",
       "std        1.073924               1.158601        0.114889   \n",
       "min        2.523000               6.635000        0.463000   \n",
       "25%        4.852000               8.541000        0.750000   \n",
       "50%        5.534000               9.569000        0.832000   \n",
       "75%        6.255000              10.421000        0.905000   \n",
       "max        7.842000              11.647000        0.983000   \n",
       "\n",
       "       Healthy life expectancy  Freedom to make life choices  Generosity  \\\n",
       "count               149.000000                    149.000000  149.000000   \n",
       "mean                 64.992799                      0.791597   -0.015134   \n",
       "std                   6.762043                      0.113332    0.150657   \n",
       "min                  48.478000                      0.382000   -0.288000   \n",
       "25%                  59.802000                      0.718000   -0.126000   \n",
       "50%                  66.603000                      0.804000   -0.036000   \n",
       "75%                  69.600000                      0.877000    0.079000   \n",
       "max                  76.953000                      0.970000    0.542000   \n",
       "\n",
       "       Perceptions of corruption  Ladder score in Dystopia  \\\n",
       "count                 149.000000                    149.00   \n",
       "mean                    0.727450                      2.43   \n",
       "std                     0.179226                      0.00   \n",
       "min                     0.082000                      2.43   \n",
       "25%                     0.667000                      2.43   \n",
       "50%                     0.781000                      2.43   \n",
       "75%                     0.845000                      2.43   \n",
       "max                     0.939000                      2.43   \n",
       "\n",
       "       Happiness Indicator  \n",
       "count           149.000000  \n",
       "mean              0.187919  \n",
       "std               0.269362  \n",
       "min               0.000000  \n",
       "25%               0.000000  \n",
       "50%               0.000000  \n",
       "75%               0.500000  \n",
       "max               1.000000  "
      ]
     },
     "execution_count": 98,
     "metadata": {},
     "output_type": "execute_result"
    }
   ],
   "source": [
    "df_cleansed.describe()"
   ]
  },
  {
   "cell_type": "markdown",
   "metadata": {},
   "source": [
    "##### SORTING DATA SETS"
   ]
  },
  {
   "cell_type": "code",
   "execution_count": 62,
   "metadata": {},
   "outputs": [
    {
     "data": {
      "text/html": [
       "<div>\n",
       "<style scoped>\n",
       "    .dataframe tbody tr th:only-of-type {\n",
       "        vertical-align: middle;\n",
       "    }\n",
       "\n",
       "    .dataframe tbody tr th {\n",
       "        vertical-align: top;\n",
       "    }\n",
       "\n",
       "    .dataframe thead th {\n",
       "        text-align: right;\n",
       "    }\n",
       "</style>\n",
       "<table border=\"1\" class=\"dataframe\">\n",
       "  <thead>\n",
       "    <tr style=\"text-align: right;\">\n",
       "      <th></th>\n",
       "      <th>Country name</th>\n",
       "      <th>Regional indicator</th>\n",
       "      <th>Ladder score</th>\n",
       "      <th>Logged GDP per capita</th>\n",
       "      <th>Social support</th>\n",
       "      <th>Healthy life expectancy</th>\n",
       "      <th>Freedom to make life choices</th>\n",
       "      <th>Generosity</th>\n",
       "      <th>Perceptions of corruption</th>\n",
       "      <th>Ladder score in Dystopia</th>\n",
       "      <th>Happiness Indicator</th>\n",
       "    </tr>\n",
       "  </thead>\n",
       "  <tbody>\n",
       "    <tr>\n",
       "      <th>148</th>\n",
       "      <td>Afghanistan</td>\n",
       "      <td>South Asia</td>\n",
       "      <td>2.523</td>\n",
       "      <td>7.695</td>\n",
       "      <td>0.463</td>\n",
       "      <td>52.493</td>\n",
       "      <td>0.382</td>\n",
       "      <td>-0.102</td>\n",
       "      <td>0.924</td>\n",
       "      <td>2.43</td>\n",
       "      <td>0.5</td>\n",
       "    </tr>\n",
       "    <tr>\n",
       "      <th>92</th>\n",
       "      <td>Albania</td>\n",
       "      <td>Central and Eastern Europe</td>\n",
       "      <td>5.117</td>\n",
       "      <td>9.520</td>\n",
       "      <td>0.697</td>\n",
       "      <td>68.999</td>\n",
       "      <td>0.785</td>\n",
       "      <td>-0.030</td>\n",
       "      <td>0.901</td>\n",
       "      <td>2.43</td>\n",
       "      <td>0.0</td>\n",
       "    </tr>\n",
       "    <tr>\n",
       "      <th>108</th>\n",
       "      <td>Algeria</td>\n",
       "      <td>Middle East and North Africa</td>\n",
       "      <td>4.887</td>\n",
       "      <td>9.342</td>\n",
       "      <td>0.802</td>\n",
       "      <td>66.005</td>\n",
       "      <td>0.480</td>\n",
       "      <td>-0.067</td>\n",
       "      <td>0.752</td>\n",
       "      <td>2.43</td>\n",
       "      <td>0.5</td>\n",
       "    </tr>\n",
       "    <tr>\n",
       "      <th>56</th>\n",
       "      <td>Argentina</td>\n",
       "      <td>Latin America and Caribbean</td>\n",
       "      <td>5.929</td>\n",
       "      <td>9.962</td>\n",
       "      <td>0.898</td>\n",
       "      <td>69.000</td>\n",
       "      <td>0.828</td>\n",
       "      <td>-0.182</td>\n",
       "      <td>0.834</td>\n",
       "      <td>2.43</td>\n",
       "      <td>0.0</td>\n",
       "    </tr>\n",
       "    <tr>\n",
       "      <th>85</th>\n",
       "      <td>Armenia</td>\n",
       "      <td>Commonwealth of Independent States</td>\n",
       "      <td>5.283</td>\n",
       "      <td>9.487</td>\n",
       "      <td>0.799</td>\n",
       "      <td>67.055</td>\n",
       "      <td>0.825</td>\n",
       "      <td>-0.168</td>\n",
       "      <td>0.629</td>\n",
       "      <td>2.43</td>\n",
       "      <td>0.0</td>\n",
       "    </tr>\n",
       "    <tr>\n",
       "      <th>...</th>\n",
       "      <td>...</td>\n",
       "      <td>...</td>\n",
       "      <td>...</td>\n",
       "      <td>...</td>\n",
       "      <td>...</td>\n",
       "      <td>...</td>\n",
       "      <td>...</td>\n",
       "      <td>...</td>\n",
       "      <td>...</td>\n",
       "      <td>...</td>\n",
       "      <td>...</td>\n",
       "    </tr>\n",
       "    <tr>\n",
       "      <th>106</th>\n",
       "      <td>Venezuela</td>\n",
       "      <td>Latin America and Caribbean</td>\n",
       "      <td>4.892</td>\n",
       "      <td>9.073</td>\n",
       "      <td>0.861</td>\n",
       "      <td>66.700</td>\n",
       "      <td>0.615</td>\n",
       "      <td>-0.169</td>\n",
       "      <td>0.827</td>\n",
       "      <td>2.43</td>\n",
       "      <td>0.5</td>\n",
       "    </tr>\n",
       "    <tr>\n",
       "      <th>78</th>\n",
       "      <td>Vietnam</td>\n",
       "      <td>Southeast Asia</td>\n",
       "      <td>5.411</td>\n",
       "      <td>8.973</td>\n",
       "      <td>0.850</td>\n",
       "      <td>68.034</td>\n",
       "      <td>0.940</td>\n",
       "      <td>-0.098</td>\n",
       "      <td>0.796</td>\n",
       "      <td>2.43</td>\n",
       "      <td>0.0</td>\n",
       "    </tr>\n",
       "    <tr>\n",
       "      <th>140</th>\n",
       "      <td>Yemen</td>\n",
       "      <td>Middle East and North Africa</td>\n",
       "      <td>3.658</td>\n",
       "      <td>7.578</td>\n",
       "      <td>0.832</td>\n",
       "      <td>57.122</td>\n",
       "      <td>0.602</td>\n",
       "      <td>-0.147</td>\n",
       "      <td>0.800</td>\n",
       "      <td>2.43</td>\n",
       "      <td>0.5</td>\n",
       "    </tr>\n",
       "    <tr>\n",
       "      <th>136</th>\n",
       "      <td>Zambia</td>\n",
       "      <td>Sub-Saharan Africa</td>\n",
       "      <td>4.073</td>\n",
       "      <td>8.145</td>\n",
       "      <td>0.708</td>\n",
       "      <td>55.809</td>\n",
       "      <td>0.782</td>\n",
       "      <td>0.061</td>\n",
       "      <td>0.823</td>\n",
       "      <td>2.43</td>\n",
       "      <td>0.5</td>\n",
       "    </tr>\n",
       "    <tr>\n",
       "      <th>147</th>\n",
       "      <td>Zimbabwe</td>\n",
       "      <td>Sub-Saharan Africa</td>\n",
       "      <td>3.145</td>\n",
       "      <td>7.943</td>\n",
       "      <td>0.750</td>\n",
       "      <td>56.201</td>\n",
       "      <td>0.677</td>\n",
       "      <td>-0.047</td>\n",
       "      <td>0.821</td>\n",
       "      <td>2.43</td>\n",
       "      <td>0.5</td>\n",
       "    </tr>\n",
       "  </tbody>\n",
       "</table>\n",
       "<p>149 rows × 11 columns</p>\n",
       "</div>"
      ],
      "text/plain": [
       "    Country name                  Regional indicator  Ladder score  \\\n",
       "148  Afghanistan                          South Asia         2.523   \n",
       "92       Albania          Central and Eastern Europe         5.117   \n",
       "108      Algeria        Middle East and North Africa         4.887   \n",
       "56     Argentina         Latin America and Caribbean         5.929   \n",
       "85       Armenia  Commonwealth of Independent States         5.283   \n",
       "..           ...                                 ...           ...   \n",
       "106    Venezuela         Latin America and Caribbean         4.892   \n",
       "78       Vietnam                      Southeast Asia         5.411   \n",
       "140        Yemen        Middle East and North Africa         3.658   \n",
       "136       Zambia                  Sub-Saharan Africa         4.073   \n",
       "147     Zimbabwe                  Sub-Saharan Africa         3.145   \n",
       "\n",
       "     Logged GDP per capita  Social support  Healthy life expectancy  \\\n",
       "148                  7.695           0.463                   52.493   \n",
       "92                   9.520           0.697                   68.999   \n",
       "108                  9.342           0.802                   66.005   \n",
       "56                   9.962           0.898                   69.000   \n",
       "85                   9.487           0.799                   67.055   \n",
       "..                     ...             ...                      ...   \n",
       "106                  9.073           0.861                   66.700   \n",
       "78                   8.973           0.850                   68.034   \n",
       "140                  7.578           0.832                   57.122   \n",
       "136                  8.145           0.708                   55.809   \n",
       "147                  7.943           0.750                   56.201   \n",
       "\n",
       "     Freedom to make life choices  Generosity  Perceptions of corruption  \\\n",
       "148                         0.382      -0.102                      0.924   \n",
       "92                          0.785      -0.030                      0.901   \n",
       "108                         0.480      -0.067                      0.752   \n",
       "56                          0.828      -0.182                      0.834   \n",
       "85                          0.825      -0.168                      0.629   \n",
       "..                            ...         ...                        ...   \n",
       "106                         0.615      -0.169                      0.827   \n",
       "78                          0.940      -0.098                      0.796   \n",
       "140                         0.602      -0.147                      0.800   \n",
       "136                         0.782       0.061                      0.823   \n",
       "147                         0.677      -0.047                      0.821   \n",
       "\n",
       "     Ladder score in Dystopia  Happiness Indicator  \n",
       "148                      2.43                  0.5  \n",
       "92                       2.43                  0.0  \n",
       "108                      2.43                  0.5  \n",
       "56                       2.43                  0.0  \n",
       "85                       2.43                  0.0  \n",
       "..                        ...                  ...  \n",
       "106                      2.43                  0.5  \n",
       "78                       2.43                  0.0  \n",
       "140                      2.43                  0.5  \n",
       "136                      2.43                  0.5  \n",
       "147                      2.43                  0.5  \n",
       "\n",
       "[149 rows x 11 columns]"
      ]
     },
     "execution_count": 62,
     "metadata": {},
     "output_type": "execute_result"
    }
   ],
   "source": [
    "df_cleansed.sort_values(by=[\"Country name\"],axis=0,ascending=True)"
   ]
  },
  {
   "cell_type": "markdown",
   "metadata": {},
   "source": [
    "##### BOX-WHISKER DIAGRAM"
   ]
  },
  {
   "cell_type": "code",
   "execution_count": 63,
   "metadata": {},
   "outputs": [
    {
     "data": {
      "text/plain": [
       "<matplotlib.axes._subplots.AxesSubplot at 0x1d5a68d3fd0>"
      ]
     },
     "execution_count": 63,
     "metadata": {},
     "output_type": "execute_result"
    },
    {
     "data": {
      "image/png": "[encoded data removed]",
      "text/plain": [
       "<Figure size 432x288 with 1 Axes>"
      ]
     },
     "metadata": {
      "needs_background": "light"
     },
     "output_type": "display_data"
    }
   ],
   "source": [
    "df_cleansed.boxplot(\"Ladder score\")"
   ]
  },
  {
   "cell_type": "code",
   "execution_count": 105,
   "metadata": {},
   "outputs": [
    {
     "data": {
      "image/png": "[encoded data removed]",
      "text/plain": [
       "<Figure size 3200x600 with 1 Axes>"
      ]
     },
     "metadata": {
      "needs_background": "light"
     },
     "output_type": "display_data"
    }
   ],
   "source": [
    "plt.figure(figsize=(16, 3),dpi=200)\n",
    "\n",
    "plt.xlabel(\"COUNTRY\")\n",
    "plt.plot(df_cleansed[\"Country name\"].head(10), df_cleansed[[\"Ladder score\", \"Logged GDP per capita\", \"Social support\", \"Healthy life expectancy\", \"Freedom to make life choices\"]].head(10))\n",
    "#plt.legend(loc='upper left')\n",
    "plt.grid()"
   ]
  },
  {
   "cell_type": "markdown",
   "metadata": {},
   "source": [
    "##### STATISTICAL EVALUATIONS"
   ]
  },
  {
   "cell_type": "code",
   "execution_count": 65,
   "metadata": {},
   "outputs": [
    {
     "data": {
      "text/plain": [
       "<matplotlib.collections.PathCollection at 0x1d5a72a1340>"
      ]
     },
     "execution_count": 65,
     "metadata": {},
     "output_type": "execute_result"
    },
    {
     "data": {
      "image/png": "[encoded data removed]",
      "text/plain": [
       "<Figure size 432x288 with 1 Axes>"
      ]
     },
     "metadata": {
      "needs_background": "light"
     },
     "output_type": "display_data"
    }
   ],
   "source": [
    "x = df_cleansed[\"Logged GDP per capita\"]\n",
    "y = df_cleansed[\"Ladder score\"]\n",
    "\n",
    "plt.title(\"Scatter Plot for GDP vs Ladder Score\")\n",
    "plt.xlabel(\"Logged GDP per capita\")\n",
    "plt.ylabel(\"Ladder score\")\n",
    "plt.scatter(x, y)"
   ]
  },
  {
   "cell_type": "markdown",
   "metadata": {},
   "source": [
    "##### LADDER SCORE OF TOP 10 COUNTRIES"
   ]
  },
  {
   "cell_type": "code",
   "execution_count": 66,
   "metadata": {},
   "outputs": [
    {
     "data": {
      "text/plain": [
       "<BarContainer object of 10 artists>"
      ]
     },
     "execution_count": 66,
     "metadata": {},
     "output_type": "execute_result"
    },
    {
     "data": {
      "image/png": "[encoded data removed]",
      "text/plain": [
       "<Figure size 2160x360 with 1 Axes>"
      ]
     },
     "metadata": {
      "needs_background": "light"
     },
     "output_type": "display_data"
    }
   ],
   "source": [
    "plt.figure(figsize=(30, 5))\n",
    "plt.bar(df_cleansed[\"Country name\"].head(10), df_cleansed[\"Ladder score\"].head(10))"
   ]
  },
  {
   "cell_type": "code",
   "execution_count": 91,
   "metadata": {},
   "outputs": [
    {
     "data": {
      "text/plain": [
       "(array([ 5.,  7., 12., 14., 13., 13., 36., 18., 26.,  5.]),\n",
       " array([48.478 , 51.3255, 54.173 , 57.0205, 59.868 , 62.7155, 65.563 ,\n",
       "        68.4105, 71.258 , 74.1055, 76.953 ]),\n",
       " <a list of 10 Patch objects>)"
      ]
     },
     "execution_count": 91,
     "metadata": {},
     "output_type": "execute_result"
    },
    {
     "data": {
      "image/png": "[encoded data removed]",
      "text/plain": [
       "<Figure size 432x288 with 1 Axes>"
      ]
     },
     "metadata": {
      "needs_background": "light"
     },
     "output_type": "display_data"
    }
   ],
   "source": [
    "x = df_cleansed[\"Healthy life expectancy\"]\n",
    "\n",
    "plt.title(\"Healthy Life Expectancy Histogram\")\n",
    "plt.hist(x)"
   ]
  },
  {
   "cell_type": "markdown",
   "metadata": {},
   "source": [
    "##### SOCIAL VS LADDER SCORE SCATTER PLOT"
   ]
  },
  {
   "cell_type": "code",
   "execution_count": 84,
   "metadata": {},
   "outputs": [
    {
     "data": {
      "text/plain": [
       "<matplotlib.collections.PathCollection at 0x1d5a686b070>"
      ]
     },
     "execution_count": 84,
     "metadata": {},
     "output_type": "execute_result"
    },
    {
     "data": {
      "image/png": "[encoded data removed]",
      "text/plain": [
       "<Figure size 432x288 with 1 Axes>"
      ]
     },
     "metadata": {
      "needs_background": "light"
     },
     "output_type": "display_data"
    }
   ],
   "source": [
    "X = df_cleansed[\"Social support\"]\n",
    "y = df_cleansed[\"Ladder score\"]\n",
    "\n",
    "plt.title(\"Social support vs Ladder Score\")\n",
    "plt.xlabel(\"Social support\")\n",
    "plt.ylabel(\"Ladder score\")\n",
    "plt.scatter(x, y)"
   ]
  },
  {
   "cell_type": "markdown",
   "metadata": {},
   "source": [
    "##### LINEAR REGRESSION"
   ]
  },
  {
   "cell_type": "code",
   "execution_count": 67,
   "metadata": {},
   "outputs": [],
   "source": [
    "from sklearn import metrics"
   ]
  },
  {
   "cell_type": "code",
   "execution_count": 109,
   "metadata": {},
   "outputs": [
    {
     "data": {
      "text/plain": [
       "LinearRegression(copy_X=True, fit_intercept=True, n_jobs=None, normalize=False)"
      ]
     },
     "execution_count": 109,
     "metadata": {},
     "output_type": "execute_result"
    }
   ],
   "source": [
    "X = df_cleansed.drop([\"Ladder score\", \"Country name\", \"Regional indicator\"], axis=1)\n",
    "y = df_cleansed[\"Ladder score\"]\n",
    "\n",
    "X_train, X_test, y_train, y_test = train_test_split(X, y, test_size = 0.2, random_state = 0)\n",
    "\n",
    "model = LinearRegression()\n",
    "\n",
    "#training\n",
    "model.fit(X_train, y_train)"
   ]
  },
  {
   "cell_type": "code",
   "execution_count": 112,
   "metadata": {},
   "outputs": [
    {
     "data": {
      "text/html": [
       "<div>\n",
       "<style scoped>\n",
       "    .dataframe tbody tr th:only-of-type {\n",
       "        vertical-align: middle;\n",
       "    }\n",
       "\n",
       "    .dataframe tbody tr th {\n",
       "        vertical-align: top;\n",
       "    }\n",
       "\n",
       "    .dataframe thead th {\n",
       "        text-align: right;\n",
       "    }\n",
       "</style>\n",
       "<table border=\"1\" class=\"dataframe\">\n",
       "  <thead>\n",
       "    <tr style=\"text-align: right;\">\n",
       "      <th></th>\n",
       "      <th>Logged GDP per capita</th>\n",
       "      <th>Social support</th>\n",
       "      <th>Healthy life expectancy</th>\n",
       "      <th>Freedom to make life choices</th>\n",
       "      <th>Generosity</th>\n",
       "      <th>Perceptions of corruption</th>\n",
       "      <th>Ladder score in Dystopia</th>\n",
       "      <th>Happiness Indicator</th>\n",
       "    </tr>\n",
       "  </thead>\n",
       "  <tbody>\n",
       "    <tr>\n",
       "      <th>133</th>\n",
       "      <td>8.542</td>\n",
       "      <td>0.795</td>\n",
       "      <td>57.161</td>\n",
       "      <td>0.561</td>\n",
       "      <td>-0.106</td>\n",
       "      <td>0.731</td>\n",
       "      <td>2.43</td>\n",
       "      <td>0.5</td>\n",
       "    </tr>\n",
       "  </tbody>\n",
       "</table>\n",
       "</div>"
      ],
      "text/plain": [
       "     Logged GDP per capita  Social support  Healthy life expectancy  \\\n",
       "133                  8.542           0.795                   57.161   \n",
       "\n",
       "     Freedom to make life choices  Generosity  Perceptions of corruption  \\\n",
       "133                         0.561      -0.106                      0.731   \n",
       "\n",
       "     Ladder score in Dystopia  Happiness Indicator  \n",
       "133                      2.43                  0.5  "
      ]
     },
     "execution_count": 112,
     "metadata": {},
     "output_type": "execute_result"
    }
   ],
   "source": [
    "#first row from the Test Set\n",
    "X_test.head(1)"
   ]
  },
  {
   "cell_type": "markdown",
   "metadata": {},
   "source": [
    "##### PREDICTION"
   ]
  },
  {
   "cell_type": "code",
   "execution_count": 114,
   "metadata": {},
   "outputs": [
    {
     "data": {
      "text/plain": [
       "array([4.48214735])"
      ]
     },
     "execution_count": 114,
     "metadata": {},
     "output_type": "execute_result"
    }
   ],
   "source": [
    "#prediction\n",
    "model.predict(X_test.head(1))"
   ]
  },
  {
   "cell_type": "markdown",
   "metadata": {},
   "source": [
    "##### MODEL SCORE"
   ]
  },
  {
   "cell_type": "code",
   "execution_count": 69,
   "metadata": {},
   "outputs": [
    {
     "data": {
      "text/plain": [
       "0.8047203843368813"
      ]
     },
     "execution_count": 69,
     "metadata": {},
     "output_type": "execute_result"
    }
   ],
   "source": [
    "#evaluation\n",
    "model.score(X_test, y_test)"
   ]
  }
 ],
 "metadata": {
  "kernelspec": {
   "display_name": "Python 3",
   "language": "python",
   "name": "python3"
  },
  "language_info": {
   "codemirror_mode": {
    "name": "ipython",
    "version": 3
   },
   "file_extension": ".py",
   "mimetype": "text/x-python",
   "name": "python",
   "nbconvert_exporter": "python",
   "pygments_lexer": "ipython3",
   "version": "3.8.2"
  }
 },
 "nbformat": 4,
 "nbformat_minor": 4
}
